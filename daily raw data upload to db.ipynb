{
 "cells": [
  {
   "cell_type": "code",
   "execution_count": 1,
   "id": "62e092b1",
   "metadata": {},
   "outputs": [],
   "source": [
    "from pyspark.context import SparkContext\n",
    "from pyspark.sql.types import StringType\n",
    "from pyspark.sql import Window, SparkSession\n",
    "from pyspark.sql.functions import when, to_date, unix_timestamp, udf, row_number, concat, col, lit, concat_ws, monotonically_increasing_id,input_file_name, regexp_replace, length, expr\n",
    "from datetime import datetime\n",
    "import pandas as pd\n",
    "import numpy as np\n",
    "import warnings\n",
    "warnings.filterwarnings(\"ignore\", category=DeprecationWarning)"
   ]
  },
  {
   "cell_type": "code",
   "execution_count": 2,
   "id": "cbae459e",
   "metadata": {},
   "outputs": [
    {
     "name": "stderr",
     "output_type": "stream",
     "text": [
      "Setting default log level to \"WARN\".\n",
      "To adjust logging level use sc.setLogLevel(newLevel). For SparkR, use setLogLevel(newLevel).\n",
      "23/07/21 10:50:19 WARN NativeCodeLoader: Unable to load native-hadoop library for your platform... using builtin-java classes where applicable\n"
     ]
    }
   ],
   "source": [
    "#### connect to database and load the data\n",
    "spark = SparkSession.builder.appName('Daliy_Data').getOrCreate()\n",
    "spark.sparkContext.setLogLevel('WARN') ## ignore the warn"
   ]
  },
  {
   "cell_type": "code",
   "execution_count": 21,
   "id": "dbe7f791",
   "metadata": {},
   "outputs": [],
   "source": [
    "timelist = ['2023-06-24','2023-06-25','2023-06-26','2023-06-27','2023-06-28','2023-06-29','2023-06-30',\\\n",
    "            '2023-07-01','2023-07-02','2023-07-03','2023-07-04','2023-07-05','2023-07-06','2023-07-07','2023-07-08','2023-07-09',\\\n",
    "            '2023-07-10','2023-07-11','2023-07-12','2023-07-13','2023-07-14','2023-07-15','2023-07-16','2023-07-17','2023-07-18','2023-07-19']\n",
    "platform_list = ['CH','WC','WA']\n",
    "for i in range(26):\n",
    "    tmp_time = timelist[i]\n",
    "    ## get all price from 3 platform\n",
    "    for j in range(3):\n",
    "        tmp_pl = platform_list[j]\n",
    "        file = 'data_'+tmp_pl+'_'+tmp_time[6]+tmp_time[8]+tmp_time[9]+'.csv'\n",
    "        tmp_file = pd.read_csv('/Users/yudi/Desktop/wristcheck/price index/raw data/'+file)\n",
    "        tmp_file = tmp_file.dropna(subset = ['price','reference_match'])\n",
    "        if j == 0:\n",
    "            tmp_s = tmp_file.copy()\n",
    "        else:\n",
    "            tmp_s = pd.concat([tmp_s,tmp_file])\n",
    "    if i == 0:\n",
    "        tmp_a = tmp_s.copy()\n",
    "    else:\n",
    "        tmp_a = pd.concat([tmp_a,tmp_s])"
   ]
  },
  {
   "cell_type": "code",
   "execution_count": 11,
   "id": "696393d7",
   "metadata": {},
   "outputs": [],
   "source": [
    "tmp_a.to_csv(\"/Users/yudi/Desktop/wristcheck/price index/recent_all.csv\")"
   ]
  },
  {
   "cell_type": "code",
   "execution_count": null,
   "id": "8e2fc72c",
   "metadata": {},
   "outputs": [],
   "source": []
  },
  {
   "cell_type": "code",
   "execution_count": 22,
   "id": "1768b836",
   "metadata": {},
   "outputs": [
    {
     "name": "stderr",
     "output_type": "stream",
     "text": [
      "23/07/21 11:36:30 WARN TaskSetManager: Stage 0 contains a task of very large size (19599 KiB). The maximum recommended task size is 1000 KiB.\n",
      "                                                                                \r"
     ]
    }
   ],
   "source": [
    "spark.createDataFrame(tmp_a).write.format(\"jdbc\")\\\n",
    "     .option(\"url\", \"jdbc:postgresql://glue-demo-intern.cjlwasvkzi50.ap-southeast-1.rds.amazonaws.com:5432/wc_data\") \\\n",
    "     .option(\"driver\", \"org.postgresql.Driver\")\\\n",
    "     .option(\"dbtable\", \"wc_raw_after_623\") \\\n",
    "     .option(\"user\", \"postgres\")\\\n",
    "     .option(\"password\", \"B&DNXSmAQe9cTJ3S\").save()"
   ]
  },
  {
   "cell_type": "code",
   "execution_count": null,
   "id": "157f6ab8",
   "metadata": {},
   "outputs": [],
   "source": []
  }
 ],
 "metadata": {
  "kernelspec": {
   "display_name": "Python 3 (ipykernel)",
   "language": "python",
   "name": "python3"
  },
  "language_info": {
   "codemirror_mode": {
    "name": "ipython",
    "version": 3
   },
   "file_extension": ".py",
   "mimetype": "text/x-python",
   "name": "python",
   "nbconvert_exporter": "python",
   "pygments_lexer": "ipython3",
   "version": "3.9.7"
  }
 },
 "nbformat": 4,
 "nbformat_minor": 5
}
